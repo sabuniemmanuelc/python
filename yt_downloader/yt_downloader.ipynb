{
 "cells": [
  {
   "cell_type": "code",
   "execution_count": 1,
   "id": "e210ebd4",
   "metadata": {},
   "outputs": [
    {
     "name": "stdout",
     "output_type": "stream",
     "text": [
      "Collecting pytube\n",
      "  Downloading pytube-12.1.0-py3-none-any.whl (56 kB)\n",
      "Installing collected packages: pytube\n",
      "Successfully installed pytube-12.1.0\n"
     ]
    }
   ],
   "source": [
    "!pip install pytube"
   ]
  },
  {
   "cell_type": "code",
   "execution_count": 2,
   "id": "3d1a8ae1",
   "metadata": {},
   "outputs": [],
   "source": [
    "from pytube import YouTube"
   ]
  },
  {
   "cell_type": "code",
   "execution_count": 28,
   "id": "1df24325",
   "metadata": {},
   "outputs": [],
   "source": [
    "vide_link = 'https://www.youtube.com/watch?v=16y1AkoZkmQ'"
   ]
  },
  {
   "cell_type": "code",
   "execution_count": 29,
   "id": "64bd79b5",
   "metadata": {},
   "outputs": [],
   "source": [
    "video = YouTube(vide_link)"
   ]
  },
  {
   "cell_type": "code",
   "execution_count": 30,
   "id": "652227be",
   "metadata": {},
   "outputs": [
    {
     "data": {
      "text/plain": [
       "'C:\\\\videos\\\\Boney M - Rasputin (Sopot Festival 1979) (VOD).mp4'"
      ]
     },
     "execution_count": 30,
     "metadata": {},
     "output_type": "execute_result"
    }
   ],
   "source": [
    "#replace res='720p' with 'only_audio=True' if you want audio only\n",
    "video.streams.filter(res='720p').first().download('C:\\\\videos')"
   ]
  },
  {
   "cell_type": "code",
   "execution_count": null,
   "id": "576beab4",
   "metadata": {},
   "outputs": [],
   "source": []
  }
 ],
 "metadata": {
  "kernelspec": {
   "display_name": "Python 3 (ipykernel)",
   "language": "python",
   "name": "python3"
  },
  "language_info": {
   "codemirror_mode": {
    "name": "ipython",
    "version": 3
   },
   "file_extension": ".py",
   "mimetype": "text/x-python",
   "name": "python",
   "nbconvert_exporter": "python",
   "pygments_lexer": "ipython3",
   "version": "3.9.7"
  }
 },
 "nbformat": 4,
 "nbformat_minor": 5
}
